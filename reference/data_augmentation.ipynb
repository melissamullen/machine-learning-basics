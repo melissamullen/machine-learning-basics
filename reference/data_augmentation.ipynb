{
 "cells": [
  {
   "cell_type": "markdown",
   "metadata": {},
   "source": [
    "# Data Augmentation"
   ]
  },
  {
   "cell_type": "code",
   "execution_count": null,
   "metadata": {},
   "outputs": [],
   "source": [
    "from tensorflow import keras\n",
    "from tensorflow.keras import layers\n",
    "# Data augmentation\n",
    "data_augmentation = keras.Sequential(\n",
    "    [\n",
    "        layers.RandomFlip(\"horizontal\"), # applies horizontal flipping to a random 50% of the images\n",
    "        layers.RandomRotation(0.1), # rotates the input images by a random value in the range [-0.1, 0.1] (-36 deg to +36 deg)\n",
    "        layers.RandomZoom(0.2), # zooms in or out of the images by a random facor in the range [-0.2, 0.2] (-20% to +20%)\n",
    "    ]\n",
    ")"
   ]
  }
 ],
 "metadata": {
  "language_info": {
   "name": "python"
  }
 },
 "nbformat": 4,
 "nbformat_minor": 2
}
